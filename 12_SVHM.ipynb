{
 "cells": [
  {
   "cell_type": "code",
   "execution_count": 84,
   "id": "f1f23084-5e7e-4928-86e8-babe95ed8551",
   "metadata": {},
   "outputs": [],
   "source": [
    "import torch\n",
    "import torch.nn as nn\n",
    "import numpy as np\n",
    "import cv2\n",
    "import torchvision\n",
    "from torchvision import transforms\n",
    "import torch.optim as optim\n",
    "import torch.nn.functional as F\n",
    "from torch.utils.data import DataLoader\n",
    "from matplotlib import pyplot as plt\n",
    "import time\n",
    "from timm.data.mixup import Mixup\n",
    "from timm.loss import SoftTargetCrossEntropy"
   ]
  },
  {
   "cell_type": "code",
   "execution_count": 92,
   "id": "d976c8bd-3e5d-4891-8a6e-eee3908ea645",
   "metadata": {},
   "outputs": [],
   "source": [
    "device = torch.device(\"cuda:0\" if torch.cuda.is_available() else \"CPU\")"
   ]
  },
  {
   "cell_type": "code",
   "execution_count": null,
   "id": "0cf14e04-6b0d-43d4-b1e9-03e04049a504",
   "metadata": {},
   "outputs": [],
   "source": []
  },
  {
   "cell_type": "code",
   "execution_count": null,
   "id": "3498d37a-07b3-45e3-9587-98aece98cb26",
   "metadata": {},
   "outputs": [],
   "source": []
  },
  {
   "cell_type": "code",
   "execution_count": 93,
   "id": "f7be7513-52db-4320-8ad6-9f95bc7e31d7",
   "metadata": {},
   "outputs": [],
   "source": [
    "train_data = torchvision.datasets.SVHN(root = './data', download = True, split = 'train', transform = transforms.ToTensor())\n",
    "test_data = torchvision.datasets.SVHN(root = './data', download = True, split = 'test', transform = transforms.ToTensor())"
   ]
  },
  {
   "cell_type": "code",
   "execution_count": 94,
   "id": "1e94eb19-3de5-4540-aa4e-ccaddd2409ed",
   "metadata": {},
   "outputs": [
    {
     "name": "stdout",
     "output_type": "stream",
     "text": [
      "tensor([[[0.5059, 0.4667, 0.4510,  ..., 0.5647, 0.5490, 0.5451],\n",
      "         [0.4353, 0.3882, 0.3294,  ..., 0.5686, 0.5569, 0.5529],\n",
      "         [0.4235, 0.3608, 0.2667,  ..., 0.5725, 0.5686, 0.5647],\n",
      "         ...,\n",
      "         [0.4039, 0.3490, 0.2941,  ..., 0.2157, 0.3020, 0.4196],\n",
      "         [0.4078, 0.3333, 0.3333,  ..., 0.2078, 0.2824, 0.3961],\n",
      "         [0.4039, 0.3176, 0.3294,  ..., 0.2510, 0.3176, 0.4078]],\n",
      "\n",
      "        [[0.4980, 0.4667, 0.4431,  ..., 0.5373, 0.5373, 0.5412],\n",
      "         [0.4314, 0.3843, 0.3176,  ..., 0.5451, 0.5451, 0.5490],\n",
      "         [0.4196, 0.3608, 0.2549,  ..., 0.5373, 0.5451, 0.5490],\n",
      "         ...,\n",
      "         [0.4118, 0.3529, 0.2902,  ..., 0.2353, 0.3176, 0.4314],\n",
      "         [0.4157, 0.3490, 0.3451,  ..., 0.2353, 0.3059, 0.4118],\n",
      "         [0.4118, 0.3333, 0.3569,  ..., 0.2784, 0.3412, 0.4235]],\n",
      "\n",
      "        [[0.4471, 0.4118, 0.3961,  ..., 0.4745, 0.4627, 0.4627],\n",
      "         [0.3961, 0.3608, 0.3020,  ..., 0.4902, 0.4784, 0.4824],\n",
      "         [0.4078, 0.3569, 0.2706,  ..., 0.4980, 0.5020, 0.5020],\n",
      "         ...,\n",
      "         [0.3961, 0.3608, 0.3294,  ..., 0.3137, 0.3647, 0.4667],\n",
      "         [0.3961, 0.3529, 0.3765,  ..., 0.3059, 0.3569, 0.4471],\n",
      "         [0.3922, 0.3412, 0.3922,  ..., 0.3451, 0.3922, 0.4588]]])\n",
      "3\n"
     ]
    },
    {
     "data": {
      "image/png": "[encoded data removed]",
      "text/plain": [
       "<Figure size 80x80 with 1 Axes>"
      ]
     },
     "metadata": {},
     "output_type": "display_data"
    }
   ],
   "source": [
    "img, label = train_data[7]\n",
    "plt.figure(figsize=(1,1), dpi=80)\n",
    "plt.imshow(img.permute(1,2,0))\n",
    "print(img)\n",
    "print(label)"
   ]
  },
  {
   "cell_type": "code",
   "execution_count": 95,
   "id": "a802084a-a25c-4edb-9e75-ae6bca6b46b0",
   "metadata": {},
   "outputs": [],
   "source": [
    "train_batch_loader = DataLoader(train_data, batch_size = 8, shuffle = True, pin_memory = True, num_workers = 2)\n",
    "test_batch_loader = DataLoader(test_data, batch_size = 8, shuffle = True, pin_memory = True, num_workers = 2)"
   ]
  },
  {
   "cell_type": "code",
   "execution_count": 69,
   "id": "de273f1c-ed02-4528-8bed-d6d5b0ae1de0",
   "metadata": {},
   "outputs": [
    {
     "name": "stdout",
     "output_type": "stream",
     "text": [
      "tensor([0.4377, 0.4438, 0.4728]) tensor([0.1201, 0.1231, 0.1052])\n"
     ]
    }
   ],
   "source": [
    "mean = torch.zeros(3)\n",
    "std = torch.zeros(3)\n",
    "nb_samples = 0\n",
    "\n",
    "# Iterate over the training DataLoader to compute mean and std.\n",
    "for data, _ in train_batch_loader:\n",
    "    batch_samples = data.size(0)\n",
    "    # Reshape: (batch_size, channels, height * width)\n",
    "    data = data.view(batch_samples, data.size(1), -1)\n",
    "    mean += data.mean(2).sum(0)\n",
    "    std += data.std(2).sum(0)\n",
    "    nb_samples += batch_samples\n",
    "\n",
    "mean /= nb_samples\n",
    "std /= nb_samples\n",
    "print(mean, std)"
   ]
  },
  {
   "cell_type": "code",
   "execution_count": 70,
   "id": "0bbe0430-ecea-4787-aac9-9fc800b05476",
   "metadata": {},
   "outputs": [],
   "source": [
    "transform_train = transforms.Compose([\n",
    "    # transforms.Resize(244),\n",
    "    transforms.RandomCrop(32, padding = 4),\n",
    "    transforms.RandomRotation(10),\n",
    "    transforms.ColorJitter(brightness=0.2, contrast=0.2),\n",
    "    # transforms.Scale(0.1),\n",
    "    # transforms.Translate(),\n",
    "    transforms.ToTensor(),\n",
    "    transforms.Normalize(mean=mean, std=std)\n",
    "])\n",
    "\n",
    "transform_test = transforms.Compose([\n",
    "    # transforms.Resize(244),\n",
    "    transforms.ToTensor(),\n",
    "    transforms.Normalize(mean=mean, std=std)\n",
    "])"
   ]
  },
  {
   "cell_type": "code",
   "execution_count": 71,
   "id": "68ecc3fc-5a1a-4a8f-8585-1796997867de",
   "metadata": {},
   "outputs": [],
   "source": [
    "train_data = torchvision.datasets.SVHN(root = './data', download = True, split = 'train', transform = transform_train)\n",
    "test_data = torchvision.datasets.SVHN(root = './data', download = True, split = 'test', transform = transform_test)"
   ]
  },
  {
   "cell_type": "code",
   "execution_count": 72,
   "id": "15b35add-5a0a-4ead-97c4-33f4fb313be3",
   "metadata": {},
   "outputs": [],
   "source": [
    "train_batch_loader = DataLoader(train_data, batch_size = 8, shuffle = True, pin_memory = True, num_workers = 2)\n",
    "test_batch_loader = DataLoader(test_data, batch_size = 8, shuffle = True, pin_memory = True, num_workers = 2)"
   ]
  },
  {
   "cell_type": "code",
   "execution_count": null,
   "id": "aadf7ad1-8f3d-4f5f-8005-6c6b9d2790e1",
   "metadata": {},
   "outputs": [],
   "source": []
  },
  {
   "cell_type": "code",
   "execution_count": null,
   "id": "c7f26fd2-92ae-406b-9e25-db6848792296",
   "metadata": {},
   "outputs": [],
   "source": []
  },
  {
   "cell_type": "code",
   "execution_count": 73,
   "id": "7cfaa747-df9f-4772-ac57-5f3c2bb8abf8",
   "metadata": {},
   "outputs": [],
   "source": [
    "class SVHNModel(nn.Module):\n",
    "    def __init__(self):\n",
    "        super().__init__()\n",
    "        self.conv1 = nn.Conv2d(3, 32, kernel_size = (3,3), padding = 1)\n",
    "        self.batchnorm1 = nn.BatchNorm2d(32)\n",
    "        self.conv2 = nn.Conv2d(32, 32, kernel_size = (3,3), padding = 1)\n",
    "        self.batchnorm2 = nn.BatchNorm2d(32)\n",
    "\n",
    "        \n",
    "        self.conv3 = nn.Conv2d(32, 64, kernel_size = (3,3), padding = 1)\n",
    "        self.batchnorm3 = nn.BatchNorm2d(64)\n",
    "        self.conv4 = nn.Conv2d(64, 64, kernel_size = (3,3), padding = 1)\n",
    "        self.batchnorm4 = nn.BatchNorm2d(64)\n",
    "\n",
    "        \n",
    "        self.conv5 = nn.Conv2d(64, 128, kernel_size = (3,3), padding = 1)\n",
    "        self.batchnorm5 = nn.BatchNorm2d(128)\n",
    "        self.conv6 = nn.Conv2d(128, 128, kernel_size = (3,3), padding = 1)\n",
    "        self.batchnorm6 = nn.BatchNorm2d(128)\n",
    "\n",
    "        self.pool = nn.MaxPool2d(2,2)\n",
    "\n",
    "        self.fc_input_size = 128 * 4 * 4\n",
    "\n",
    "        self.fc1 = nn.Linear(self.fc_input_size, 256)\n",
    "        self.fc2 = nn.Linear(256, 10)\n",
    "        self.dropout = nn.Dropout(0.4)\n",
    "\n",
    "    def forward(self, x):\n",
    "        x = F.relu(self.batchnorm1(self.conv1(x))) \n",
    "        x = F.relu(self.batchnorm2(self.conv2(x))) \n",
    "        x = self.pool(x)\n",
    "        x = F.relu(self.batchnorm3(self.conv3(x))) \n",
    "        x = F.relu(self.batchnorm4(self.conv4(x))) \n",
    "        x = self.pool(x)\n",
    "        x = F.relu(self.batchnorm5(self.conv5(x))) \n",
    "        x = F.relu(self.batchnorm6(self.conv6(x))) \n",
    "        x = self.pool(x)\n",
    "        \n",
    "        x = x.view(x.shape[0], -1)\n",
    "\n",
    "        x = self.dropout(F.relu(self.fc1(x)))\n",
    "\n",
    "        x = self.fc2(x)\n",
    "\n",
    "        return x"
   ]
  },
  {
   "cell_type": "code",
   "execution_count": 97,
   "id": "fcd12daf-6732-479b-b502-dab79bf1c47f",
   "metadata": {},
   "outputs": [
    {
     "name": "stdout",
     "output_type": "stream",
     "text": [
      "Estimated time:  2158.9749908447266\n",
      "35.98304748535156\n",
      "epoch: 0, loss: 1.1738388538360596\n",
      "epoch: 1, loss: 0.688119649887085\n",
      "epoch: 2, loss: 0.5614855289459229\n",
      "epoch: 3, loss: 0.6017897129058838\n",
      "epoch: 4, loss: 0.6496078372001648\n",
      "epoch: 5, loss: 0.5799174904823303\n",
      "epoch: 6, loss: 0.6481634378433228\n",
      "epoch: 7, loss: 2.192373037338257\n",
      "epoch: 8, loss: 0.8157390356063843\n",
      "epoch: 9, loss: 1.4136197566986084\n",
      "epoch: 10, loss: 0.5352967977523804\n",
      "epoch: 11, loss: 0.5496277809143066\n",
      "epoch: 12, loss: 0.5423702597618103\n",
      "epoch: 13, loss: 0.8656830787658691\n",
      "epoch: 14, loss: 0.5980850458145142\n",
      "epoch: 15, loss: 0.6030501127243042\n",
      "epoch: 16, loss: 1.355538010597229\n",
      "epoch: 17, loss: 0.5377591252326965\n",
      "epoch: 18, loss: 0.620063066482544\n",
      "epoch: 19, loss: 0.5947952270507812\n",
      "epoch: 20, loss: 0.7572160959243774\n",
      "epoch: 21, loss: 0.63004469871521\n",
      "epoch: 22, loss: 0.5282595753669739\n",
      "epoch: 23, loss: 0.7148165702819824\n",
      "epoch: 24, loss: 0.7110122442245483\n",
      "epoch: 25, loss: 0.5298326015472412\n",
      "epoch: 26, loss: 1.2183411121368408\n",
      "epoch: 27, loss: 0.5136862993240356\n",
      "epoch: 28, loss: 0.5238070487976074\n",
      "epoch: 29, loss: 0.5653418302536011\n"
     ]
    }
   ],
   "source": [
    "\n",
    "model = SVHNModel()\n",
    "model.to(device)\n",
    "\n",
    "# loss_fn = nn.CrossEntropyLoss()\n",
    "# optimizer = optim.SGD(model.parameters(), lr = 0.001)\n",
    "\n",
    "loss_fn = nn.CrossEntropyLoss(label_smoothing=0.1)\n",
    "epochs = 30\n",
    "optimizer = torch.optim.AdamW(model.parameters(), lr=3e-4, weight_decay=1e-4)\n",
    "scheduler = torch.optim.lr_scheduler.OneCycleLR(\n",
    "    optimizer, max_lr=3e-4, steps_per_epoch=len(train_batch_loader), epochs=epochs\n",
    ")\n",
    "\n",
    "# Step 1: Define MixUp & CutMix augmentation\n",
    "mixup_fn = Mixup(\n",
    "    mixup_alpha=0.2,    # Strength of MixUp\n",
    "    cutmix_alpha=1.0,   # Strength of CutMix\n",
    "    prob=0.5,           # Probability of applying MixUp/CutMix\n",
    "    switch_prob=0.5,    # Probability of switching between MixUp & CutMix\n",
    "    mode=\"batch\",\n",
    "    num_classes=10\n",
    ")\n",
    "\n",
    "for epoch in range(epochs):\n",
    "    for i, each in enumerate(train_batch_loader):\n",
    "        t_in = time.time()\n",
    "        x_train, y_train = each\n",
    "        x_train, y_train = x_train.to(device), y_train.to(device)\n",
    "\n",
    "        # Step 3: Apply MixUp/CutMix augmentation to the batch\n",
    "        if mixup_fn is not None and x_train.size(0) % 2 == 0:\n",
    "            x_train, y_train = mixup_fn(x_train, y_train)\n",
    "            \n",
    "        optimizer.zero_grad()\n",
    "        y_pred = model(x_train)\n",
    "        loss = loss_fn(y_pred, y_train)\n",
    "        loss.backward()\n",
    "        optimizer.step()\n",
    "\n",
    "        if i == 0 and epoch == 0:\n",
    "            time_taken = time.time() - t_in\n",
    "            estimated_time = time_taken * len(train_batch_loader) * epochs\n",
    "            print(\"Estimated time: \", estimated_time - time_taken)\n",
    "            print(estimated_time / 60)\n",
    "    scheduler.step()\n",
    "                    \n",
    "    print(f\"epoch: {epoch}, loss: {loss}\")\n",
    "        "
   ]
  },
  {
   "cell_type": "code",
   "execution_count": 98,
   "id": "d9478c06-3265-43ae-8182-e59f746d0653",
   "metadata": {},
   "outputs": [
    {
     "name": "stdout",
     "output_type": "stream",
     "text": [
      "93.57713583282114\n"
     ]
    }
   ],
   "source": [
    "def check_accuracy(model, test_batch_loader):\n",
    "    total = 0\n",
    "    correct = 0\n",
    "    for i, each in enumerate(test_batch_loader):\n",
    "        x_test, y_test = each\n",
    "        x_test, y_test = x_test.to(device), y_test.to(device)\n",
    "\n",
    "        y_pred = model(x_test)\n",
    "        total += x_test.shape[0]\n",
    "        _, pred = torch.max(y_pred, 1)\n",
    "        correct += (pred == y_test).sum().item()\n",
    "    return 100 * correct / total\n",
    "\n",
    "print(check_accuracy(model, test_batch_loader))\n",
    "        "
   ]
  },
  {
   "cell_type": "code",
   "execution_count": 79,
   "id": "bbbd9932-10dd-4745-bae3-b34ba785dfcd",
   "metadata": {},
   "outputs": [],
   "source": [
    "# 90.411 (Normal), \n",
    "# 89.56 (with mixup)\n",
    "# 92.5 (with OneCycleLR)\n",
    "# 93.57 (Without doing transformation)"
   ]
  },
  {
   "cell_type": "code",
   "execution_count": 91,
   "id": "afbebbac-cf28-49c0-a39f-94d98d16b96d",
   "metadata": {},
   "outputs": [
    {
     "name": "stderr",
     "output_type": "stream",
     "text": [
      "/tmp/ipykernel_159671/4048963178.py:58: RuntimeWarning: invalid value encountered in divide\n",
      "  cam = cam / np.max(cam)\n",
      "/tmp/ipykernel_159671/4048963178.py:70: RuntimeWarning: invalid value encountered in cast\n",
      "  heatmap = cv2.applyColorMap(np.uint8(255 * cam), cv2.COLORMAP_JET)\n",
      "Clipping input data to the valid range for imshow with RGB data ([0..1] for floats or [0..255] for integers).\n"
     ]
    },
    {
     "data": {
      "image/png": "[encoded data removed]",
      "text/plain": [
       "<Figure size 600x600 with 2 Axes>"
      ]
     },
     "metadata": {},
     "output_type": "display_data"
    }
   ],
   "source": [
    "\n",
    "# Global variables to store activations and gradients\n",
    "activations = None\n",
    "gradients = None\n",
    "\n",
    "# Hook to save the activations (forward pass)\n",
    "def forward_hook(module, input, output):\n",
    "    global activations\n",
    "    activations = output\n",
    "\n",
    "# Hook to save the gradients (backward pass)\n",
    "def backward_hook(module, grad_input, grad_output):\n",
    "    global gradients\n",
    "    gradients = grad_output[0]\n",
    "\n",
    "# Assume `model` is your SVHNModel (or similar CNN) and it's already on the correct device.\n",
    "# Choose the target convolutional layer; here we use conv6.\n",
    "target_layer = model.conv6\n",
    "\n",
    "# Register hooks\n",
    "hook_forward = target_layer.register_forward_hook(forward_hook)\n",
    "hook_backward = target_layer.register_backward_hook(backward_hook)\n",
    "\n",
    "# Get a single image from your SVHN test dataset.\n",
    "# For example, assume 'sample_img' is one image tensor of shape (3, 32, 32)\n",
    "# and 'label' is its true label.\n",
    "# Make sure the image is preprocessed (transformed) and unsqueeze to add batch dimension.\n",
    "sample_img, label = test_data[1]  # Replace with an index you want to inspect.\n",
    "input_img = sample_img.unsqueeze(0).to(device)  # shape: (1, 3, 32, 32)\n",
    "\n",
    "# Set model to evaluation mode and do a forward pass.\n",
    "model.eval()\n",
    "output = model(input_img)  # shape: (1, 10)\n",
    "\n",
    "# Choose a target class. You can use the predicted class:\n",
    "target_class = output.argmax(dim=1).item()\n",
    "# Alternatively, you could specify a class manually:\n",
    "# target_class = 3  (for example)\n",
    "\n",
    "# Zero gradients and perform a backward pass for the target class score.\n",
    "model.zero_grad()\n",
    "score = output[0, target_class]\n",
    "score.backward()\n",
    "\n",
    "# Now compute the Grad-CAM heatmap.\n",
    "# gradients: shape (1, C, H, W) from conv6\n",
    "# activations: shape (1, C, H, W) from conv6\n",
    "\n",
    "# Compute the weights by global-average pooling the gradients over spatial dimensions.\n",
    "weights = torch.mean(gradients, dim=(2, 3), keepdim=True)  # shape: (1, C, 1, 1)\n",
    "\n",
    "# Compute the weighted sum of the activations.\n",
    "cam = torch.sum(weights * activations, dim=1)  # shape: (1, H, W)\n",
    "cam = F.relu(cam)  # Apply ReLU to the combined map.\n",
    "cam = cam.squeeze().detach().cpu().numpy()  # Now shape is (H, W)\n",
    "\n",
    "# Normalize the CAM to [0, 1].\n",
    "cam = cam - np.min(cam)\n",
    "cam = cam / np.max(cam)\n",
    "\n",
    "# Upsample the CAM to the size of the input image (e.g., 32x32).\n",
    "cam = cv2.resize(cam, (input_img.shape[3], input_img.shape[2]))\n",
    "\n",
    "# Visualize: overlay the heatmap on the original image.\n",
    "# Convert the input image to numpy (and to HWC order).\n",
    "input_img_np = input_img.squeeze().permute(1, 2, 0).detach().cpu().numpy()\n",
    "input_img_np = input_img_np - np.min(input_img_np)\n",
    "input_img_np = input_img_np / np.max(input_img_np)\n",
    "\n",
    "# Apply a color map to the CAM.\n",
    "heatmap = cv2.applyColorMap(np.uint8(255 * cam), cv2.COLORMAP_JET)\n",
    "heatmap = np.float32(heatmap) / 255\n",
    "heatmap = cv2.cvtColor(heatmap, cv2.COLOR_BGR2RGB)  # Convert BGR to RGB\n",
    "\n",
    "# Combine heatmap with the original image.\n",
    "overlay = heatmap + input_img_np\n",
    "overlay = overlay / np.max(overlay)\n",
    "\n",
    "# Plot the overlay.\n",
    "plt.figure(figsize=(6, 6))\n",
    "plt.subplot(1,2,1)\n",
    "plt.imshow(overlay)\n",
    "plt.title(f\"Grad-CAM for Class {target_class}\")\n",
    "plt.axis('off')\n",
    "plt.subplot(1,2,2)\n",
    "plt.imshow(sample_img.permute(1, 2, 0))\n",
    "plt.title(f\"Grad-CAM for Class {target_class}\")\n",
    "plt.axis('off')\n",
    "plt.show()\n",
    "\n",
    "# Remove hooks after usage.\n",
    "hook_forward.remove()\n",
    "hook_backward.remove()\n"
   ]
  },
  {
   "cell_type": "code",
   "execution_count": null,
   "id": "d8a521f4-6b26-4612-a5bb-1b0ec1a5e757",
   "metadata": {},
   "outputs": [],
   "source": []
  }
 ],
 "metadata": {
  "kernelspec": {
   "display_name": "Python 3 (ipykernel)",
   "language": "python",
   "name": "python3"
  },
  "language_info": {
   "codemirror_mode": {
    "name": "ipython",
    "version": 3
   },
   "file_extension": ".py",
   "mimetype": "text/x-python",
   "name": "python",
   "nbconvert_exporter": "python",
   "pygments_lexer": "ipython3",
   "version": "3.10.12"
  }
 },
 "nbformat": 4,
 "nbformat_minor": 5
}

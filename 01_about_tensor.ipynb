{
 "cells": [
  {
   "cell_type": "code",
   "execution_count": 3,
   "id": "61e55854-7cfb-46fa-9f2e-2f72dda2997b",
   "metadata": {},
   "outputs": [],
   "source": [
    "import torch"
   ]
  },
  {
   "cell_type": "code",
   "execution_count": 4,
   "id": "1b0290db-da51-4476-a482-4fee06ce97cd",
   "metadata": {},
   "outputs": [
    {
     "data": {
      "text/plain": [
       "tensor([1, 2, 3, 4])"
      ]
     },
     "execution_count": 4,
     "metadata": {},
     "output_type": "execute_result"
    }
   ],
   "source": [
    "tensor1 = torch.tensor([1,2,3,4])\n",
    "tensor1"
   ]
  },
  {
   "cell_type": "code",
   "execution_count": 10,
   "id": "ae0459b9-832e-4790-a30b-bb90eb03dd57",
   "metadata": {},
   "outputs": [
    {
     "data": {
      "text/plain": [
       "tensor([[1, 2, 3],\n",
       "        [3, 4, 5]])"
      ]
     },
     "execution_count": 10,
     "metadata": {},
     "output_type": "execute_result"
    }
   ],
   "source": [
    "tensor2 = torch.tensor([[1,2, 3], [3,4, 5]])\n",
    "tensor2"
   ]
  },
  {
   "cell_type": "code",
   "execution_count": 6,
   "id": "9c9ebc36-e027-4082-b24c-29f5d9894618",
   "metadata": {},
   "outputs": [
    {
     "data": {
      "text/plain": [
       "tensor([1., 1., 1., 1., 1.])"
      ]
     },
     "execution_count": 6,
     "metadata": {},
     "output_type": "execute_result"
    }
   ],
   "source": [
    "tensor3 = torch.ones(5)\n",
    "tensor3"
   ]
  },
  {
   "cell_type": "code",
   "execution_count": 8,
   "id": "f6182ec2-7974-4453-ab3d-4d9d2ec7cca6",
   "metadata": {},
   "outputs": [
    {
     "data": {
      "text/plain": [
       "tensor([[0., 0., 0.],\n",
       "        [0., 0., 0.]])"
      ]
     },
     "execution_count": 8,
     "metadata": {},
     "output_type": "execute_result"
    }
   ],
   "source": [
    "tensor4 = torch.zeros((2,3))\n",
    "tensor4"
   ]
  },
  {
   "cell_type": "code",
   "execution_count": 9,
   "id": "56dc22be-2b06-4905-9b4b-b0136abfdc04",
   "metadata": {},
   "outputs": [
    {
     "data": {
      "text/plain": [
       "tensor([[0.3632, 0.0709, 0.1715],\n",
       "        [0.7594, 0.7196, 0.6804]])"
      ]
     },
     "execution_count": 9,
     "metadata": {},
     "output_type": "execute_result"
    }
   ],
   "source": [
    "tensor5 = torch.rand((2,3))\n",
    "tensor5"
   ]
  },
  {
   "cell_type": "code",
   "execution_count": 11,
   "id": "954d448b-94d7-4a25-b6d7-7cf44a237406",
   "metadata": {},
   "outputs": [
    {
     "data": {
      "text/plain": [
       "tensor([[0.3632, 0.1418, 0.5144],\n",
       "        [2.2782, 2.8785, 3.4022]])"
      ]
     },
     "execution_count": 11,
     "metadata": {},
     "output_type": "execute_result"
    }
   ],
   "source": [
    "tensor2 * tensor5"
   ]
  },
  {
   "cell_type": "code",
   "execution_count": 12,
   "id": "ac03dbf5-09e7-46e8-9056-9b6df42b6296",
   "metadata": {},
   "outputs": [],
   "source": [
    "A = torch.tensor([[1, 2], [3, 4]])\n",
    "B = torch.tensor([[5, 6], [7, 8]])"
   ]
  },
  {
   "cell_type": "code",
   "execution_count": 13,
   "id": "629b7390-dfb0-4984-b1d6-1c9290d95158",
   "metadata": {},
   "outputs": [
    {
     "data": {
      "text/plain": [
       "tensor([[ 5, 12],\n",
       "        [21, 32]])"
      ]
     },
     "execution_count": 13,
     "metadata": {},
     "output_type": "execute_result"
    }
   ],
   "source": [
    "A * B"
   ]
  },
  {
   "cell_type": "code",
   "execution_count": 14,
   "id": "a1ba4aaa-879b-4797-8856-628b5e1e03f9",
   "metadata": {},
   "outputs": [
    {
     "data": {
      "text/plain": [
       "tensor([[19, 22],\n",
       "        [43, 50]])"
      ]
     },
     "execution_count": 14,
     "metadata": {},
     "output_type": "execute_result"
    }
   ],
   "source": [
    "torch.matmul(A, B)"
   ]
  },
  {
   "cell_type": "code",
   "execution_count": 15,
   "id": "45e473f1-2c05-4ee1-9827-5a834cfc3fdd",
   "metadata": {},
   "outputs": [
    {
     "data": {
      "text/plain": [
       "tensor([[0.3632, 0.0709],\n",
       "        [0.1715, 0.7594],\n",
       "        [0.7196, 0.6804]])"
      ]
     },
     "execution_count": 15,
     "metadata": {},
     "output_type": "execute_result"
    }
   ],
   "source": [
    "tensor5.reshape(3,2)"
   ]
  },
  {
   "cell_type": "code",
   "execution_count": 16,
   "id": "a85b3bbb-400a-4900-a00e-cc0601efe86b",
   "metadata": {},
   "outputs": [
    {
     "data": {
      "text/plain": [
       "tensor([0.3632, 0.0709, 0.1715, 0.7594, 0.7196, 0.6804])"
      ]
     },
     "execution_count": 16,
     "metadata": {},
     "output_type": "execute_result"
    }
   ],
   "source": [
    "tensor5.reshape(6)"
   ]
  },
  {
   "cell_type": "code",
   "execution_count": 17,
   "id": "a2b0c5e2-b49a-4f95-862c-19e416456f1c",
   "metadata": {},
   "outputs": [
    {
     "data": {
      "text/plain": [
       "tensor([0.3632, 0.0709, 0.1715, 0.7594, 0.7196, 0.6804])"
      ]
     },
     "execution_count": 17,
     "metadata": {},
     "output_type": "execute_result"
    }
   ],
   "source": [
    "tensor5.view(-1)"
   ]
  },
  {
   "cell_type": "code",
   "execution_count": null,
   "id": "7d5b13d3-48d7-4d24-a6db-7196facfa12f",
   "metadata": {
    "jupyter": {
     "source_hidden": true
    }
   },
   "outputs": [],
   "source": []
  },
  {
   "cell_type": "code",
   "execution_count": null,
   "id": "575d67ca-6634-47df-b3d8-754ea1f2126b",
   "metadata": {
    "jupyter": {
     "source_hidden": true
    }
   },
   "outputs": [],
   "source": []
  },
  {
   "cell_type": "code",
   "execution_count": 21,
   "id": "8cc0f960-e463-47a2-896c-c9cfe3ae9227",
   "metadata": {},
   "outputs": [],
   "source": [
    "x1 = torch.tensor(2.0)"
   ]
  },
  {
   "cell_type": "code",
   "execution_count": 52,
   "id": "21ab0bde-b7ae-4354-a4cc-86042e54f8fe",
   "metadata": {},
   "outputs": [],
   "source": [
    "x2 = torch.tensor(2.0, requires_grad = True)"
   ]
  },
  {
   "cell_type": "code",
   "execution_count": 40,
   "id": "30226af6-3af4-405d-9b57-e9b6d78e39d9",
   "metadata": {},
   "outputs": [
    {
     "data": {
      "text/plain": [
       "tensor(16.)"
      ]
     },
     "execution_count": 40,
     "metadata": {},
     "output_type": "execute_result"
    }
   ],
   "source": [
    "y1 = x1 ** 3 + 4 * x1\n",
    "y1"
   ]
  },
  {
   "cell_type": "code",
   "execution_count": 53,
   "id": "a25458d6-9545-4ea4-becf-11020741881f",
   "metadata": {},
   "outputs": [
    {
     "data": {
      "text/plain": [
       "tensor(10., grad_fn=<AddBackward0>)"
      ]
     },
     "execution_count": 53,
     "metadata": {},
     "output_type": "execute_result"
    }
   ],
   "source": [
    "y2 = x2 ** 1 + 4 * x2\n",
    "y2"
   ]
  },
  {
   "cell_type": "code",
   "execution_count": 56,
   "id": "60cbe48d-6fa5-413e-b2fa-03ed79b5e634",
   "metadata": {},
   "outputs": [],
   "source": [
    "y2.backward()"
   ]
  },
  {
   "cell_type": "code",
   "execution_count": 58,
   "id": "bb09472e-ce64-4a09-99ae-4e30ca914f06",
   "metadata": {},
   "outputs": [
    {
     "data": {
      "text/plain": [
       "tensor(10., grad_fn=<AddBackward0>)"
      ]
     },
     "execution_count": 58,
     "metadata": {},
     "output_type": "execute_result"
    }
   ],
   "source": [
    "y2"
   ]
  },
  {
   "cell_type": "code",
   "execution_count": 57,
   "id": "0ab587ca-1bfe-4dd6-899d-d2f9af3c4c2f",
   "metadata": {},
   "outputs": [
    {
     "data": {
      "text/plain": [
       "tensor(5.)"
      ]
     },
     "execution_count": 57,
     "metadata": {},
     "output_type": "execute_result"
    }
   ],
   "source": [
    "x2.grad"
   ]
  },
  {
   "cell_type": "code",
   "execution_count": null,
   "id": "151bf24f-76e3-458a-97de-c325b77a136e",
   "metadata": {
    "jupyter": {
     "source_hidden": true
    }
   },
   "outputs": [],
   "source": []
  },
  {
   "cell_type": "code",
   "execution_count": 69,
   "id": "55065823-e46d-46fa-8a2e-e7c8f2547e65",
   "metadata": {},
   "outputs": [],
   "source": [
    "x3 = torch.tensor([2.0, 3.0], requires_grad = True)"
   ]
  },
  {
   "cell_type": "code",
   "execution_count": 70,
   "id": "ddffdf27-7b9d-4e71-b59e-e89bdf7c6d47",
   "metadata": {},
   "outputs": [
    {
     "data": {
      "text/plain": [
       "tensor([2., 3.], requires_grad=True)"
      ]
     },
     "execution_count": 70,
     "metadata": {},
     "output_type": "execute_result"
    }
   ],
   "source": [
    "x3"
   ]
  },
  {
   "cell_type": "code",
   "execution_count": 71,
   "id": "880c40ba-a8b9-4f7b-aafa-7d5267434ecf",
   "metadata": {},
   "outputs": [],
   "source": [
    "y3 = x3 ** 2 + 2 * x3"
   ]
  },
  {
   "cell_type": "code",
   "execution_count": 72,
   "id": "304ce6a3-384d-4a87-87ea-61831ff7e5ce",
   "metadata": {},
   "outputs": [
    {
     "data": {
      "text/plain": [
       "tensor([ 8., 15.], grad_fn=<AddBackward0>)"
      ]
     },
     "execution_count": 72,
     "metadata": {},
     "output_type": "execute_result"
    }
   ],
   "source": [
    "y3"
   ]
  },
  {
   "cell_type": "code",
   "execution_count": 73,
   "id": "d3af6a5a-d427-46bd-93cb-a6bfb73000b0",
   "metadata": {},
   "outputs": [
    {
     "data": {
      "text/plain": [
       "tensor(23., grad_fn=<SumBackward0>)"
      ]
     },
     "execution_count": 73,
     "metadata": {},
     "output_type": "execute_result"
    }
   ],
   "source": [
    "y3.sum()"
   ]
  },
  {
   "cell_type": "code",
   "execution_count": 74,
   "id": "602f63c8-2b59-42f1-8c04-ea533c664406",
   "metadata": {},
   "outputs": [],
   "source": [
    "y3.sum().backward()"
   ]
  },
  {
   "cell_type": "code",
   "execution_count": 75,
   "id": "4762f3d3-605b-490b-9785-7591da83b945",
   "metadata": {},
   "outputs": [
    {
     "data": {
      "text/plain": [
       "tensor([ 8., 15.], grad_fn=<AddBackward0>)"
      ]
     },
     "execution_count": 75,
     "metadata": {},
     "output_type": "execute_result"
    }
   ],
   "source": [
    "y3"
   ]
  },
  {
   "cell_type": "code",
   "execution_count": 76,
   "id": "78799df9-2569-40f0-8d38-7483e6ba7285",
   "metadata": {},
   "outputs": [
    {
     "data": {
      "text/plain": [
       "tensor([2., 3.], requires_grad=True)"
      ]
     },
     "execution_count": 76,
     "metadata": {},
     "output_type": "execute_result"
    }
   ],
   "source": [
    "x3"
   ]
  },
  {
   "cell_type": "code",
   "execution_count": 77,
   "id": "74ced71e-88f9-4235-bca5-76588489753a",
   "metadata": {},
   "outputs": [
    {
     "data": {
      "text/plain": [
       "tensor([6., 8.])"
      ]
     },
     "execution_count": 77,
     "metadata": {},
     "output_type": "execute_result"
    }
   ],
   "source": [
    "x3.grad"
   ]
  },
  {
   "cell_type": "code",
   "execution_count": null,
   "id": "d8d2f27a-1457-4459-b2ea-ca56b50461da",
   "metadata": {
    "jupyter": {
     "source_hidden": true
    }
   },
   "outputs": [],
   "source": []
  },
  {
   "cell_type": "code",
   "execution_count": 84,
   "id": "762f2287-6834-4c15-a5db-72f244f7199e",
   "metadata": {},
   "outputs": [],
   "source": [
    "x5 = torch.tensor(2.0, requires_grad = True)"
   ]
  },
  {
   "cell_type": "code",
   "execution_count": 79,
   "id": "d070b4e2-6a0b-45c2-ac62-d9d5cc4ff289",
   "metadata": {},
   "outputs": [
    {
     "data": {
      "text/plain": [
       "tensor(10., grad_fn=<AddBackward0>)"
      ]
     },
     "execution_count": 79,
     "metadata": {},
     "output_type": "execute_result"
    }
   ],
   "source": [
    "y5 = x5 ** 1 + 4 * x5\n",
    "y5"
   ]
  },
  {
   "cell_type": "code",
   "execution_count": 80,
   "id": "4a58372e-5496-4cba-8b59-06abe53440b2",
   "metadata": {},
   "outputs": [],
   "source": [
    "x5.grad"
   ]
  },
  {
   "cell_type": "code",
   "execution_count": 81,
   "id": "93750927-756a-4af0-9b09-bc9d7ff94a1d",
   "metadata": {},
   "outputs": [],
   "source": [
    "y5.backward()"
   ]
  },
  {
   "cell_type": "code",
   "execution_count": 82,
   "id": "c7f98843-37be-489d-8f43-f721b4981d73",
   "metadata": {},
   "outputs": [
    {
     "data": {
      "text/plain": [
       "tensor(5.)"
      ]
     },
     "execution_count": 82,
     "metadata": {},
     "output_type": "execute_result"
    }
   ],
   "source": [
    "x5.grad"
   ]
  },
  {
   "cell_type": "code",
   "execution_count": 87,
   "id": "e3778556-46c4-4234-ba7d-8d8fbf977b3b",
   "metadata": {},
   "outputs": [],
   "source": [
    "with torch.no_grad():\n",
    "    y5 = x5 ** 1 + 4 * x5\n",
    "x5.grad"
   ]
  },
  {
   "cell_type": "code",
   "execution_count": null,
   "id": "84dad358-2a41-40ab-95ba-3a644f8747a2",
   "metadata": {},
   "outputs": [],
   "source": []
  }
 ],
 "metadata": {
  "kernelspec": {
   "display_name": "Python 3 (ipykernel)",
   "language": "python",
   "name": "python3"
  },
  "language_info": {
   "codemirror_mode": {
    "name": "ipython",
    "version": 3
   },
   "file_extension": ".py",
   "mimetype": "text/x-python",
   "name": "python",
   "nbconvert_exporter": "python",
   "pygments_lexer": "ipython3",
   "version": "3.10.12"
  }
 },
 "nbformat": 4,
 "nbformat_minor": 5
}

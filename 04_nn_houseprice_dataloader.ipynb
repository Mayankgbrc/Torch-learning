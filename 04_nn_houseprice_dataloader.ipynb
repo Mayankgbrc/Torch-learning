{
 "cells": [
  {
   "cell_type": "code",
   "execution_count": 3,
   "id": "f9249642-57ba-4f27-9634-19fa297f27f7",
   "metadata": {},
   "outputs": [],
   "source": [
    "import torch\n",
    "import torch.nn as nn\n",
    "import torch.optim as optim\n",
    "from torch.utils.data import DataLoader, Dataset"
   ]
  },
  {
   "cell_type": "code",
   "execution_count": 30,
   "id": "9ef75f08-7c8c-4110-88dc-8406b4af437c",
   "metadata": {},
   "outputs": [],
   "source": [
    "class HousePriceDataset(Dataset):\n",
    "    def __init__(self):\n",
    "        self.X = torch.tensor([\n",
    "            [1400, 3, 20],\n",
    "            [1600, 4, 15],\n",
    "            [1700, 3, 10],\n",
    "            [1875, 3, 5],\n",
    "            [1100, 2, 25]\n",
    "        ], dtype = torch.float32)\n",
    "\n",
    "        self.Y = torch.tensor([[245], [312], [279], [308], [199]], dtype = torch.float32)\n",
    "\n",
    "        self.X_mean, self.X_std = self.X.mean(dim = 0), self.X.std(dim = 0)\n",
    "\n",
    "        self.X_norm =  (self.X - self.X_mean) / self.X_std\n",
    "\n",
    "    def __len__(self):\n",
    "        return len(self.X)\n",
    "\n",
    "    def __getitem__(self, idx):\n",
    "        return self.X_norm[idx], self.Y[idx]"
   ]
  },
  {
   "cell_type": "code",
   "execution_count": 31,
   "id": "7388dfb0-3c48-41a0-91e7-997843045543",
   "metadata": {},
   "outputs": [],
   "source": [
    "dataset = HousePriceDataset()\n",
    "dataloader = DataLoader(dataset, batch_size = 2, shuffle = True)"
   ]
  },
  {
   "cell_type": "code",
   "execution_count": 32,
   "id": "9f333c2f-5ca6-4dc8-91c2-b0af4cb5be86",
   "metadata": {},
   "outputs": [],
   "source": [
    "class HousePriceNN(nn.Module):\n",
    "    def __init__(self):\n",
    "        super(HousePriceNN, self).__init__()\n",
    "        self.layer1 = nn.Linear(3,1)\n",
    "    def forward(self, x):\n",
    "        return self.layer1(x)\n",
    "\n",
    "model = HousePriceNN()\n",
    "\n",
    "epochs = 100\n",
    "loss_fn = nn.MSELoss()\n",
    "optimizer = optim.SGD(model.parameters(), lr = 0.01)"
   ]
  },
  {
   "cell_type": "code",
   "execution_count": null,
   "id": "94d44ed7-bb44-4224-a406-252891ff4ac8",
   "metadata": {},
   "outputs": [],
   "source": [
    "class HousePriceNN2(nn.Module):\n",
    "    def __init__(self):\n",
    "        super(HousePriceNN2, self).__init__()\n",
    "        self.layer1 = nn.Linear(3,1)\n",
    "        \n",
    "    def forward(self, x):\n",
    "        return self.layer1(x)\n",
    "\n",
    "model = HousePriceNN2()\n",
    "\n",
    "epochs = 100\n",
    "loss_fn = nn.MSELoss()\n",
    "optimizer = optim.SGD(model.parameters(), lr = 0.01, weight_decay = 0.001)"
   ]
  },
  {
   "cell_type": "code",
   "execution_count": 79,
   "id": "6e1147d2-778e-4c71-9e71-f4e25889710a",
   "metadata": {},
   "outputs": [
    {
     "name": "stdout",
     "output_type": "stream",
     "text": [
      "epoch: 1, loss: 77595.5390625\n",
      "epoch: 6, loss: 59285.078125\n",
      "epoch: 11, loss: 72100.0703125\n",
      "epoch: 16, loss: 73168.9921875\n",
      "epoch: 21, loss: 32780.390625\n",
      "epoch: 26, loss: 26569.328125\n",
      "epoch: 31, loss: 64.86275482177734\n",
      "epoch: 36, loss: 44.05049133300781\n",
      "epoch: 41, loss: 422.224853515625\n",
      "epoch: 46, loss: 42.879154205322266\n",
      "epoch: 51, loss: 281.94281005859375\n",
      "epoch: 56, loss: 40.3125\n",
      "epoch: 61, loss: 35.94911575317383\n",
      "epoch: 66, loss: 10.19159984588623\n",
      "epoch: 71, loss: 10.938514709472656\n",
      "epoch: 76, loss: 30.803380966186523\n",
      "epoch: 81, loss: 26.347017288208008\n",
      "epoch: 86, loss: 0.19996465742588043\n",
      "epoch: 91, loss: 1.0888662338256836\n",
      "epoch: 96, loss: 0.10549411922693253\n",
      "epoch: 101, loss: 0.7182624340057373\n",
      "epoch: 106, loss: 24.635129928588867\n",
      "epoch: 111, loss: 23.782588958740234\n",
      "epoch: 116, loss: 9.440878868103027\n",
      "epoch: 121, loss: 0.012999117374420166\n",
      "epoch: 126, loss: 14.176713943481445\n",
      "epoch: 131, loss: 11.360980987548828\n",
      "epoch: 136, loss: 0.14652204513549805\n",
      "epoch: 141, loss: 8.167301177978516\n",
      "epoch: 146, loss: 4.377274036407471\n",
      "epoch: 151, loss: 13.17139720916748\n",
      "epoch: 156, loss: 0.03868529945611954\n",
      "epoch: 161, loss: 0.1367609202861786\n",
      "epoch: 166, loss: 3.801595449447632\n",
      "epoch: 171, loss: 33.148189544677734\n",
      "epoch: 176, loss: 3.9049899578094482\n",
      "epoch: 181, loss: 29.51167106628418\n",
      "epoch: 186, loss: 26.059267044067383\n",
      "epoch: 191, loss: 24.276851654052734\n",
      "epoch: 196, loss: 25.234004974365234\n",
      "epoch: 200, loss: 0.004948140121996403\n"
     ]
    }
   ],
   "source": [
    "import torch.nn.functional as F\n",
    "\n",
    "class HousePriceNN3(nn.Module):\n",
    "    def __init__(self):\n",
    "        super(HousePriceNN3, self).__init__()\n",
    "        self.layer1 = nn.Linear(3, 10)  # More neurons\n",
    "        self.dropout = nn.Dropout(0)  # Dropout layer (30% neurons off)\n",
    "        self.layer2 = nn.Linear(10, 1)  # Output layer\n",
    "\n",
    "    def forward(self, x):\n",
    "        x = F.relu(self.layer1(x))  # Apply ReLU\n",
    "        x = self.dropout(x)  # Apply dropout during training\n",
    "        x = self.layer2(x)  # Output layer\n",
    "        return x\n",
    "\n",
    "\n",
    "model = HousePriceNN3()\n",
    "\n",
    "epochs = 200\n",
    "loss_fn = nn.MSELoss()\n",
    "optimizer = optim.SGD(model.parameters(), lr = 0.0001, weight_decay = 0.001)\n",
    "\n",
    "for i in range(epochs):\n",
    "    for X_batch, y_batch in dataloader:\n",
    "        # print(X_batch, y_batch)\n",
    "        y = model(X_batch)\n",
    "        loss = loss_fn(y, y_batch)\n",
    "\n",
    "        optimizer.zero_grad()\n",
    "        loss.backward()\n",
    "        optimizer.step()\n",
    "\n",
    "    if i%5 == 0 or i == epochs-1:\n",
    "        print(f\"epoch: {i+1}, loss: {loss}\")"
   ]
  },
  {
   "cell_type": "code",
   "execution_count": 33,
   "id": "2272ba49-0295-45e6-810d-f67737aab060",
   "metadata": {},
   "outputs": [
    {
     "name": "stdout",
     "output_type": "stream",
     "text": [
      "epoch: 1, loss: 42556.38671875\n",
      "epoch: 6, loss: 29990.765625\n",
      "epoch: 11, loss: 28526.70703125\n",
      "epoch: 16, loss: 15578.2861328125\n",
      "epoch: 21, loss: 4962.6494140625\n",
      "epoch: 26, loss: 2365.7353515625\n",
      "epoch: 31, loss: 2257.65625\n",
      "epoch: 36, loss: 1226.065185546875\n",
      "epoch: 41, loss: 250.54209899902344\n",
      "epoch: 46, loss: 410.78338623046875\n",
      "epoch: 51, loss: 17.714265823364258\n",
      "epoch: 56, loss: 234.2213134765625\n",
      "epoch: 61, loss: 165.8080596923828\n",
      "epoch: 66, loss: 7.092351913452148\n",
      "epoch: 71, loss: 14.790371894836426\n",
      "epoch: 76, loss: 71.22282409667969\n",
      "epoch: 81, loss: 26.830427169799805\n",
      "epoch: 86, loss: 52.32161331176758\n",
      "epoch: 91, loss: 33.820640563964844\n",
      "epoch: 96, loss: 38.929481506347656\n",
      "epoch: 100, loss: 38.05061340332031\n"
     ]
    }
   ],
   "source": [
    "# 1\n",
    "for i in range(epochs):\n",
    "    for X_batch, y_batch in dataloader:\n",
    "        y = model(X_batch)\n",
    "        loss = loss_fn(y, y_batch)\n",
    "\n",
    "        optimizer.zero_grad()\n",
    "        loss.backward()\n",
    "        optimizer.step()\n",
    "\n",
    "    if i%5 == 0 or i == epochs-1:\n",
    "        print(f\"epoch: {i+1}, loss: {loss}\")"
   ]
  },
  {
   "cell_type": "code",
   "execution_count": 39,
   "id": "016948c0-8681-4820-8644-af4a4fa24dc6",
   "metadata": {},
   "outputs": [
    {
     "name": "stdout",
     "output_type": "stream",
     "text": [
      "epoch: 1, loss: 93394.40625\n",
      "epoch: 6, loss: 50243.0546875\n",
      "epoch: 11, loss: 24426.556640625\n",
      "epoch: 16, loss: 9278.9521484375\n",
      "epoch: 21, loss: 6091.498046875\n",
      "epoch: 26, loss: 4443.41796875\n",
      "epoch: 31, loss: 2124.875732421875\n",
      "epoch: 36, loss: 457.39892578125\n",
      "epoch: 41, loss: 936.5116577148438\n",
      "epoch: 46, loss: 397.55987548828125\n",
      "epoch: 51, loss: 16.184242248535156\n",
      "epoch: 56, loss: 198.61959838867188\n",
      "epoch: 61, loss: 177.32830810546875\n",
      "epoch: 66, loss: 7.4042181968688965\n",
      "epoch: 71, loss: 18.479398727416992\n",
      "epoch: 76, loss: 66.51769256591797\n",
      "epoch: 81, loss: 41.65424346923828\n",
      "epoch: 86, loss: 59.60218811035156\n",
      "epoch: 91, loss: 26.371145248413086\n",
      "epoch: 96, loss: 34.91587829589844\n",
      "epoch: 100, loss: 56.07755661010742\n"
     ]
    }
   ],
   "source": [
    "for i in range(epochs):\n",
    "    for X_batch, y_batch in dataloader:\n",
    "        y = model(X_batch)\n",
    "        loss = loss_fn(y, y_batch)\n",
    "\n",
    "        optimizer.zero_grad()\n",
    "        loss.backward()\n",
    "        optimizer.step()\n",
    "\n",
    "    if i%5 == 0 or i == epochs-1:\n",
    "        print(f\"epoch: {i+1}, loss: {loss}\")"
   ]
  },
  {
   "cell_type": "code",
   "execution_count": 43,
   "id": "c108e81e-cbfe-45c0-8001-a9e3ffc22fcb",
   "metadata": {},
   "outputs": [
    {
     "name": "stdout",
     "output_type": "stream",
     "text": [
      "epoch: 1, loss: 91288.0546875\n",
      "epoch: 6, loss: nan\n",
      "epoch: 11, loss: nan\n",
      "epoch: 16, loss: nan\n",
      "epoch: 21, loss: nan\n",
      "epoch: 26, loss: nan\n",
      "epoch: 31, loss: nan\n",
      "epoch: 36, loss: nan\n",
      "epoch: 41, loss: nan\n",
      "epoch: 46, loss: nan\n",
      "epoch: 51, loss: nan\n",
      "epoch: 56, loss: nan\n",
      "epoch: 61, loss: nan\n",
      "epoch: 66, loss: nan\n",
      "epoch: 71, loss: nan\n",
      "epoch: 76, loss: nan\n",
      "epoch: 81, loss: nan\n",
      "epoch: 86, loss: nan\n",
      "epoch: 91, loss: nan\n",
      "epoch: 96, loss: nan\n",
      "epoch: 100, loss: nan\n"
     ]
    }
   ],
   "source": []
  },
  {
   "cell_type": "code",
   "execution_count": 67,
   "id": "4355eddd-bc51-4e09-8c28-c013493fdf4b",
   "metadata": {},
   "outputs": [
    {
     "name": "stdout",
     "output_type": "stream",
     "text": [
      "tensor([[-0.1176,  0.0000,  0.3795],\n",
      "        [ 0.8902,  1.4142, -0.6325]])\n"
     ]
    },
    {
     "data": {
      "text/plain": [
       "tensor([[254.3834],\n",
       "        [342.7014]], grad_fn=<AddmmBackward0>)"
      ]
     },
     "execution_count": 67,
     "metadata": {},
     "output_type": "execute_result"
    }
   ],
   "source": [
    "test_houses = torch.tensor([\n",
    "    [1500, 3, 18],  # House 1\n",
    "    [1800, 4, 10]   # House 2\n",
    "], dtype=torch.float32)\n",
    "\n",
    "test_houses = (test_houses - dataset.X_mean) / dataset.X_std\n",
    "print(test_houses)\n",
    "\n",
    "model(test_houses)"
   ]
  },
  {
   "cell_type": "code",
   "execution_count": 22,
   "id": "4e857200-dc83-47b5-8b15-342f76091b9f",
   "metadata": {},
   "outputs": [],
   "source": [
    "torch.save(model.state_dict(), 'house_price_state_dict.pth')"
   ]
  },
  {
   "cell_type": "code",
   "execution_count": 27,
   "id": "014852ef-72c5-4181-b037-0cbf6b90aa10",
   "metadata": {},
   "outputs": [
    {
     "data": {
      "text/plain": [
       "HousePriceNN(\n",
       "  (layer1): Linear(in_features=3, out_features=1, bias=True)\n",
       ")"
      ]
     },
     "execution_count": 27,
     "metadata": {},
     "output_type": "execute_result"
    }
   ],
   "source": [
    "loaded_model = HousePriceNN()\n",
    "loaded_model.load_state_dict(torch.load('house_price_state_dict.pth'))\n",
    "loaded_model.eval()"
   ]
  },
  {
   "cell_type": "code",
   "execution_count": 28,
   "id": "9333fcfa-f9fe-4c29-bace-3abf34e970b0",
   "metadata": {},
   "outputs": [
    {
     "name": "stdout",
     "output_type": "stream",
     "text": [
      "tensor([[-0.1176,  0.0000,  0.3795],\n",
      "        [ 0.8902,  1.4142, -0.6325]])\n"
     ]
    }
   ],
   "source": [
    "# Predict with the loaded model\n",
    "test_houses = torch.tensor([\n",
    "    [1500, 3, 18],  # House 1\n",
    "    [1800, 4, 10]   # House 2\n",
    "], dtype=torch.float32)\n",
    "\n",
    "test_houses = (test_houses - dataset.X_mean) / dataset.X_std\n",
    "\n",
    "print(test_houses)"
   ]
  },
  {
   "cell_type": "code",
   "execution_count": 29,
   "id": "855d91c7-7655-4293-8eaa-547afd3f0950",
   "metadata": {},
   "outputs": [
    {
     "data": {
      "text/plain": [
       "tensor([[261.1003],\n",
       "        [325.2099]], grad_fn=<AddmmBackward0>)"
      ]
     },
     "execution_count": 29,
     "metadata": {},
     "output_type": "execute_result"
    }
   ],
   "source": [
    "loaded_model(test_houses)"
   ]
  },
  {
   "cell_type": "code",
   "execution_count": null,
   "id": "ec2a2ff8-6896-43b9-95d7-b1f504c87c8d",
   "metadata": {},
   "outputs": [],
   "source": []
  }
 ],
 "metadata": {
  "kernelspec": {
   "display_name": "Python 3 (ipykernel)",
   "language": "python",
   "name": "python3"
  },
  "language_info": {
   "codemirror_mode": {
    "name": "ipython",
    "version": 3
   },
   "file_extension": ".py",
   "mimetype": "text/x-python",
   "name": "python",
   "nbconvert_exporter": "python",
   "pygments_lexer": "ipython3",
   "version": "3.10.12"
  }
 },
 "nbformat": 4,
 "nbformat_minor": 5
}

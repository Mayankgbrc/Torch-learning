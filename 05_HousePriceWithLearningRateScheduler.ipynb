{
 "cells": [
  {
   "cell_type": "code",
   "execution_count": 1,
   "id": "6ab686d8-19c1-47b5-bdc9-7baf4fea7d68",
   "metadata": {},
   "outputs": [],
   "source": [
    "import torch\n",
    "import torch.nn as nn\n",
    "import torch.optim as optim\n",
    "import torch.nn.functional as F"
   ]
  },
  {
   "cell_type": "code",
   "execution_count": 7,
   "id": "8429f1ee-1f07-41df-b38d-39dc11d9f232",
   "metadata": {},
   "outputs": [],
   "source": [
    "# Dummy dataset: [Size (sq ft), No. of Bedrooms] → [Price ($1000s)]\n",
    "data = torch.tensor([[1400, 2], [1600, 3], [1700, 3], [1875, 4], [1100, 2]], dtype=torch.float32)\n",
    "prices = torch.tensor([[245], [312], [279], [308], [199]], dtype=torch.float32)"
   ]
  },
  {
   "cell_type": "code",
   "execution_count": 17,
   "id": "8c133548-96a3-4229-85cf-21a40e1f0f27",
   "metadata": {},
   "outputs": [],
   "source": [
    "class HousePrice(nn.Module):\n",
    "    def __init__(self):\n",
    "        super(HousePrice, self).__init__()\n",
    "        self.layer1 = nn.Linear(2, 5)\n",
    "        self.layer2 = nn.Linear(5, 1)\n",
    "    def forward(self, x):\n",
    "        x = self.layer1(x)\n",
    "        x = F.relu(x)\n",
    "        x = self.layer2(x)\n",
    "        return x\n",
    "\n"
   ]
  },
  {
   "cell_type": "code",
   "execution_count": 25,
   "id": "152ef3b1-f079-428c-b1e5-bb5203e8e6b9",
   "metadata": {},
   "outputs": [
    {
     "name": "stdout",
     "output_type": "stream",
     "text": [
      "Epoch 5, Loss: 82359336566784.0000 , LR: 0.010000\n",
      "Epoch 10, Loss: 67293572759552.0000 , LR: 0.005000\n",
      "Epoch 15, Loss: 59635834814464.0000 , LR: 0.005000\n",
      "Epoch 20, Loss: 53933582057472.0000 , LR: 0.002500\n",
      "Epoch 25, Loss: 50782518902784.0000 , LR: 0.002500\n",
      "Epoch 30, Loss: 48299767758848.0000 , LR: 0.001250\n",
      "Epoch 35, Loss: 46869946302464.0000 , LR: 0.001250\n",
      "Epoch 40, Loss: 45711282405376.0000 , LR: 0.000625\n",
      "Epoch 45, Loss: 45030173573120.0000 , LR: 0.000625\n",
      "Epoch 50, Loss: 44470460481536.0000 , LR: 0.000313\n",
      "Epoch 55, Loss: 44138045112320.0000 , LR: 0.000313\n",
      "Epoch 60, Loss: 43862953295872.0000 , LR: 0.000156\n",
      "Epoch 65, Loss: 43698737905664.0000 , LR: 0.000156\n",
      "Epoch 70, Loss: 43562372694016.0000 , LR: 0.000078\n",
      "Epoch 75, Loss: 43480755732480.0000 , LR: 0.000078\n",
      "Epoch 80, Loss: 43412866727936.0000 , LR: 0.000039\n",
      "Epoch 85, Loss: 43372190367744.0000 , LR: 0.000039\n",
      "Epoch 90, Loss: 43338312974336.0000 , LR: 0.000020\n",
      "Epoch 95, Loss: 43318004154368.0000 , LR: 0.000020\n",
      "Epoch 100, Loss: 43301092720640.0000 , LR: 0.000010\n"
     ]
    }
   ],
   "source": [
    "model = HousePrice()\n",
    "\n",
    "epochs = 100\n",
    "optimizer = optim.SGD(model.parameters(), lr = 0.01)\n",
    "scheduler = optim.lr_scheduler.StepLR(optimizer, step_size=10, gamma=0.5)\n",
    "loss_fn = nn.MSELoss()\n",
    "\n",
    "for i in range(epochs):\n",
    "    y = model(data)\n",
    "    optimizer.zero_grad()\n",
    "    loss = loss_fn(y, prices)\n",
    "    loss.backward()\n",
    "    optimizer.step()\n",
    "    scheduler.step()\n",
    "    \n",
    "    \n",
    "    if (i + 1) % 5 == 0:\n",
    "        print(f\"Epoch {i+1}, Loss: {loss.item():.4f} , LR: {scheduler.get_last_lr()[0]:.6f}\")"
   ]
  },
  {
   "cell_type": "code",
   "execution_count": null,
   "id": "796a2b0a-6ab7-48c0-a909-bbccf7a66aa0",
   "metadata": {},
   "outputs": [],
   "source": []
  },
  {
   "cell_type": "code",
   "execution_count": null,
   "id": "625ce3a4-fd11-4609-9390-82cd15f7160a",
   "metadata": {},
   "outputs": [],
   "source": []
  },
  {
   "cell_type": "code",
   "execution_count": null,
   "id": "1164e6da-09a0-4193-9ea0-b374dd066f38",
   "metadata": {},
   "outputs": [],
   "source": []
  }
 ],
 "metadata": {
  "kernelspec": {
   "display_name": "Python 3 (ipykernel)",
   "language": "python",
   "name": "python3"
  },
  "language_info": {
   "codemirror_mode": {
    "name": "ipython",
    "version": 3
   },
   "file_extension": ".py",
   "mimetype": "text/x-python",
   "name": "python",
   "nbconvert_exporter": "python",
   "pygments_lexer": "ipython3",
   "version": "3.10.12"
  }
 },
 "nbformat": 4,
 "nbformat_minor": 5
}

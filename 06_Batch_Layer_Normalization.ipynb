{
 "cells": [
  {
   "cell_type": "code",
   "execution_count": 1,
   "id": "7f6160ff-ec28-4af3-a652-4c33c803afe0",
   "metadata": {},
   "outputs": [],
   "source": [
    "import torch\n",
    "import torch.nn as nn\n"
   ]
  },
  {
   "cell_type": "code",
   "execution_count": 34,
   "id": "5e995b0c-853b-4d4f-b545-afd5c940e3ad",
   "metadata": {},
   "outputs": [],
   "source": [
    "\n",
    "# Model without BatchNorm\n",
    "class MLP_No_BN(nn.Module):\n",
    "    def __init__(self):\n",
    "        super().__init__()\n",
    "        self.layer1 = nn.Linear(3, 10)\n",
    "        self.relu = nn.ReLU()\n",
    "        self.layer2 = nn.Linear(10, 1)\n",
    "\n",
    "    def forward(self, x):\n",
    "        x = self.layer1(x)\n",
    "        x = self.relu(x)\n",
    "        x = self.layer2(x)\n",
    "        return x"
   ]
  },
  {
   "cell_type": "code",
   "execution_count": 54,
   "id": "195f8854-2253-409a-993d-7cea0ac464a0",
   "metadata": {},
   "outputs": [],
   "source": [
    "# Create inputs\n",
    "x = torch.tensor([\n",
    "    [1.0,2.0,3.0],\n",
    "    [4.0,5.0,6.0],\n",
    "    [7.0,8.0,9.0]\n",
    "])\n"
   ]
  },
  {
   "cell_type": "code",
   "execution_count": 55,
   "id": "8fa4c7b4-9361-4efe-bc65-5e7f06c7444c",
   "metadata": {},
   "outputs": [
    {
     "name": "stdout",
     "output_type": "stream",
     "text": [
      "Without BatchNorm: tensor([[0.6569],\n",
      "        [1.2491],\n",
      "        [1.8727]], grad_fn=<AddmmBackward0>)\n"
     ]
    }
   ],
   "source": [
    "\n",
    "# Run models\n",
    "model_no_bn = MLP_No_BN()\n",
    "\n",
    "print(\"Without BatchNorm:\", model_no_bn(x))"
   ]
  },
  {
   "cell_type": "code",
   "execution_count": 56,
   "id": "c7feb2b7-e67e-426e-8273-8b5210efdb35",
   "metadata": {},
   "outputs": [],
   "source": [
    "# Model with BatchNorm\n",
    "class MLP_With_BN(nn.Module):\n",
    "    def __init__(self):\n",
    "        super().__init__()\n",
    "        self.layer1 = nn.Linear(3, 3)\n",
    "        self.batchnorm1 = nn.BatchNorm1d(3)  # Normalizing activations\n",
    "        self.relu = nn.ReLU()\n",
    "        self.layer2 = nn.Linear(3, 1)\n",
    "\n",
    "    def forward(self, x):\n",
    "        print(x)\n",
    "        x = self.layer1(x)\n",
    "        print(x)\n",
    "        x = self.batchnorm1(x)  # Apply BatchNorm\n",
    "        print(\"after bn\", x)\n",
    "        x = self.relu(x)\n",
    "        print(x)\n",
    "        x = self.layer2(x)\n",
    "        print((x))\n",
    "        return x"
   ]
  },
  {
   "cell_type": "code",
   "execution_count": 57,
   "id": "8705f6d5-e3bb-4feb-9dd7-019de4d5a222",
   "metadata": {},
   "outputs": [
    {
     "name": "stdout",
     "output_type": "stream",
     "text": [
      "tensor([[1., 2., 3.],\n",
      "        [4., 5., 6.],\n",
      "        [7., 8., 9.]])\n",
      "tensor([[-1.1242, -1.1364, -1.7823],\n",
      "        [-2.2971, -2.6796, -4.4150],\n",
      "        [-3.4699, -4.2228, -7.0477]], grad_fn=<AddmmBackward0>)\n",
      "after bn tensor([[ 1.2247e+00,  1.2247e+00,  1.2247e+00],\n",
      "        [ 1.9926e-07,  2.4624e-07,  3.0469e-07],\n",
      "        [-1.2247e+00, -1.2247e+00, -1.2247e+00]],\n",
      "       grad_fn=<NativeBatchNormBackward0>)\n",
      "tensor([[1.2247e+00, 1.2247e+00, 1.2247e+00],\n",
      "        [1.9926e-07, 2.4624e-07, 3.0469e-07],\n",
      "        [0.0000e+00, 0.0000e+00, 0.0000e+00]], grad_fn=<ReluBackward0>)\n",
      "tensor([[1.5145],\n",
      "        [0.3430],\n",
      "        [0.3430]], grad_fn=<AddmmBackward0>)\n",
      "With BatchNorm: tensor([[1.5145],\n",
      "        [0.3430],\n",
      "        [0.3430]], grad_fn=<AddmmBackward0>)\n"
     ]
    }
   ],
   "source": [
    "model_with_bn = MLP_With_BN()\n",
    "\n",
    "print(\"With BatchNorm:\", model_with_bn(x))"
   ]
  },
  {
   "cell_type": "code",
   "execution_count": 59,
   "id": "a477d58f-a141-41cb-a889-4ff2f9d282c0",
   "metadata": {},
   "outputs": [
    {
     "data": {
      "image/png": "[encoded data removed]",
      "text/plain": [
       "<Figure size 1000x400 with 2 Axes>"
      ]
     },
     "metadata": {},
     "output_type": "display_data"
    }
   ],
   "source": [
    "import torch\n",
    "import torch.nn as nn\n",
    "import matplotlib.pyplot as plt\n",
    "\n",
    "# Simple model without BatchNorm\n",
    "class NoBatchNorm(nn.Module):\n",
    "    def __init__(self):\n",
    "        super().__init__()\n",
    "        self.fc = nn.Linear(3, 10)\n",
    "        self.relu = nn.ReLU()\n",
    "\n",
    "    def forward(self, x):\n",
    "        return self.relu(self.fc(x))\n",
    "\n",
    "# Simple model with BatchNorm\n",
    "class WithBatchNorm(nn.Module):\n",
    "    def __init__(self):\n",
    "        super().__init__()\n",
    "        self.fc = nn.Linear(3, 10)\n",
    "        self.bn = nn.BatchNorm1d(10)\n",
    "        self.relu = nn.ReLU()\n",
    "\n",
    "    def forward(self, x):\n",
    "        return self.relu(self.bn(self.fc(x)))\n",
    "\n",
    "# Generate random data (batch of 100 samples, 3 features)\n",
    "x = torch.randn(100, 3)\n",
    "\n",
    "# Pass through models\n",
    "model_no_bn = NoBatchNorm()\n",
    "model_with_bn = WithBatchNorm()\n",
    "\n",
    "out_no_bn = model_no_bn(x).detach().numpy()\n",
    "out_with_bn = model_with_bn(x).detach().numpy()\n",
    "\n",
    "# Plot activation distributions\n",
    "plt.figure(figsize=(10, 4))\n",
    "plt.subplot(1, 2, 1)\n",
    "plt.hist(out_no_bn.flatten(), bins=30, alpha=0.7, color='red', label=\"Without BatchNorm\")\n",
    "plt.title(\"Activations Without BatchNorm\")\n",
    "plt.legend()\n",
    "\n",
    "plt.subplot(1, 2, 2)\n",
    "plt.hist(out_with_bn.flatten(), bins=30, alpha=0.7, color='blue', label=\"With BatchNorm\")\n",
    "plt.title(\"Activations With BatchNorm\")\n",
    "plt.legend()\n",
    "\n",
    "plt.show()\n"
   ]
  },
  {
   "cell_type": "code",
   "execution_count": 68,
   "id": "802cbc7c-4e44-46e6-9ca8-39c84d3284a5",
   "metadata": {},
   "outputs": [
    {
     "name": "stdout",
     "output_type": "stream",
     "text": [
      "Input:\n",
      " tensor([[1., 2., 3.],\n",
      "        [4., 5., 6.]])\n",
      "\n",
      "BatchNorm Output:\n",
      " tensor([[-1.0000, -1.0000, -1.0000],\n",
      "        [ 1.0000,  1.0000,  1.0000]], grad_fn=<NativeBatchNormBackward0>)\n",
      "\n",
      "LayerNorm Output:\n",
      " tensor([[-1.2247,  0.0000,  1.2247],\n",
      "        [-1.2247,  0.0000,  1.2247]], grad_fn=<NativeLayerNormBackward0>)\n"
     ]
    }
   ],
   "source": [
    "# Sample input (batch of 4, 5 features)\n",
    "# x = torch.randn(4, 5)\n",
    "x = torch.tensor([\n",
    "    [1.0,2.0,3.0],\n",
    "    [4.0,5.0,6.0]\n",
    "])\n",
    "# BatchNorm and LayerNorm layers\n",
    "batch_norm = nn.BatchNorm1d(3)  # Normalize across batch\n",
    "layer_norm = nn.LayerNorm(3)     # Normalize across features\n",
    "\n",
    "# Pass input through both\n",
    "out_bn = batch_norm(x)\n",
    "out_ln = layer_norm(x)\n",
    "\n",
    "# Print results\n",
    "print(\"Input:\\n\", x)\n",
    "print(\"\\nBatchNorm Output:\\n\", out_bn)\n",
    "print(\"\\nLayerNorm Output:\\n\", out_ln)\n"
   ]
  },
  {
   "cell_type": "code",
   "execution_count": null,
   "id": "3e8b37f2-1e57-47f4-98fa-a4638ed97a95",
   "metadata": {},
   "outputs": [],
   "source": []
  }
 ],
 "metadata": {
  "kernelspec": {
   "display_name": "Python 3 (ipykernel)",
   "language": "python",
   "name": "python3"
  },
  "language_info": {
   "codemirror_mode": {
    "name": "ipython",
    "version": 3
   },
   "file_extension": ".py",
   "mimetype": "text/x-python",
   "name": "python",
   "nbconvert_exporter": "python",
   "pygments_lexer": "ipython3",
   "version": "3.10.12"
  }
 },
 "nbformat": 4,
 "nbformat_minor": 5
}

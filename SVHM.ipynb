{
 "cells": [
  {
   "cell_type": "code",
   "execution_count": 1,
   "id": "f1f23084-5e7e-4928-86e8-babe95ed8551",
   "metadata": {},
   "outputs": [],
   "source": [
    "import torch\n",
    "import torch.nn as nn\n",
    "import torchvision\n",
    "from torchvision import transforms\n",
    "import torch.optim as optim\n",
    "import torch.nn.functional as F\n",
    "from torch.utils.data import DataLoader\n",
    "from matplotlib import pyplot as plt\n",
    "import time\n",
    "from timm.data.mixup import Mixup"
   ]
  },
  {
   "cell_type": "code",
   "execution_count": 2,
   "id": "d976c8bd-3e5d-4891-8a6e-eee3908ea645",
   "metadata": {},
   "outputs": [],
   "source": [
    "device = torch.device(\"cuda:0\" if torch.cuda.is_available() else \"CPU\")"
   ]
  },
  {
   "cell_type": "code",
   "execution_count": null,
   "id": "0cf14e04-6b0d-43d4-b1e9-03e04049a504",
   "metadata": {},
   "outputs": [],
   "source": []
  },
  {
   "cell_type": "code",
   "execution_count": null,
   "id": "3498d37a-07b3-45e3-9587-98aece98cb26",
   "metadata": {},
   "outputs": [],
   "source": []
  },
  {
   "cell_type": "code",
   "execution_count": 33,
   "id": "f7be7513-52db-4320-8ad6-9f95bc7e31d7",
   "metadata": {},
   "outputs": [],
   "source": [
    "train_data = torchvision.datasets.SVHN(root = './data', download = True, split = 'train', transform = transforms.ToTensor())\n",
    "test_data = torchvision.datasets.SVHN(root = './data', download = True, split = 'test', transform = transforms.ToTensor())"
   ]
  },
  {
   "cell_type": "code",
   "execution_count": 34,
   "id": "1e94eb19-3de5-4540-aa4e-ccaddd2409ed",
   "metadata": {},
   "outputs": [
    {
     "name": "stdout",
     "output_type": "stream",
     "text": [
      "tensor([[[0.3294, 0.3373, 0.3020,  ..., 0.3529, 0.3451, 0.3451],\n",
      "         [0.3333, 0.3255, 0.2902,  ..., 0.3490, 0.3451, 0.3451],\n",
      "         [0.3255, 0.3059, 0.2392,  ..., 0.3529, 0.3451, 0.3333],\n",
      "         ...,\n",
      "         [0.3922, 0.3843, 0.3725,  ..., 0.4078, 0.4000, 0.3922],\n",
      "         [0.4039, 0.4157, 0.4039,  ..., 0.4039, 0.4039, 0.4118],\n",
      "         [0.4039, 0.4039, 0.4078,  ..., 0.4431, 0.4078, 0.4039]],\n",
      "\n",
      "        [[0.2980, 0.2863, 0.3059,  ..., 0.3059, 0.3020, 0.3059],\n",
      "         [0.3020, 0.2863, 0.2706,  ..., 0.3216, 0.3098, 0.3176],\n",
      "         [0.2980, 0.3020, 0.1961,  ..., 0.3333, 0.3255, 0.3216],\n",
      "         ...,\n",
      "         [0.3843, 0.3686, 0.3647,  ..., 0.4078, 0.4000, 0.3961],\n",
      "         [0.4078, 0.4078, 0.4039,  ..., 0.4078, 0.4039, 0.3882],\n",
      "         [0.4157, 0.4118, 0.4157,  ..., 0.4039, 0.4078, 0.3843]],\n",
      "\n",
      "        [[0.2314, 0.2588, 0.2196,  ..., 0.2706, 0.2627, 0.2588],\n",
      "         [0.2392, 0.2510, 0.2314,  ..., 0.2510, 0.2745, 0.2627],\n",
      "         [0.2353, 0.2275, 0.2118,  ..., 0.2471, 0.2588, 0.2745],\n",
      "         ...,\n",
      "         [0.2824, 0.2980, 0.2863,  ..., 0.3373, 0.3412, 0.3059],\n",
      "         [0.3098, 0.3098, 0.3412,  ..., 0.3373, 0.3412, 0.3176],\n",
      "         [0.3216, 0.3412, 0.3569,  ..., 0.3451, 0.3451, 0.3137]]])\n"
     ]
    },
    {
     "data": {
      "image/png": "[encoded data removed]",
      "text/plain": [
       "<Figure size 640x480 with 1 Axes>"
      ]
     },
     "metadata": {},
     "output_type": "display_data"
    }
   ],
   "source": [
    "img, label = train_data[1]\n",
    "plt.imshow(img.permute(1,2,0))\n",
    "print(img)"
   ]
  },
  {
   "cell_type": "code",
   "execution_count": 15,
   "id": "a802084a-a25c-4edb-9e75-ae6bca6b46b0",
   "metadata": {},
   "outputs": [],
   "source": [
    "train_batch_loader = DataLoader(train_data, batch_size = 8, shuffle = True, pin_memory = True, num_workers = 2)\n",
    "test_batch_loader = DataLoader(test_data, batch_size = 8, shuffle = True, pin_memory = True, num_workers = 2)"
   ]
  },
  {
   "cell_type": "code",
   "execution_count": 18,
   "id": "de273f1c-ed02-4528-8bed-d6d5b0ae1de0",
   "metadata": {},
   "outputs": [
    {
     "name": "stdout",
     "output_type": "stream",
     "text": [
      "tensor([0.4377, 0.4438, 0.4728]) tensor([0.1201, 0.1231, 0.1052])\n"
     ]
    }
   ],
   "source": [
    "mean = torch.zeros(3)\n",
    "std = torch.zeros(3)\n",
    "nb_samples = 0\n",
    "\n",
    "# Iterate over the training DataLoader to compute mean and std.\n",
    "for data, _ in train_batch_loader:\n",
    "    batch_samples = data.size(0)\n",
    "    # Reshape: (batch_size, channels, height * width)\n",
    "    data = data.view(batch_samples, data.size(1), -1)\n",
    "    mean += data.mean(2).sum(0)\n",
    "    std += data.std(2).sum(0)\n",
    "    nb_samples += batch_samples\n",
    "\n",
    "mean /= nb_samples\n",
    "std /= nb_samples\n",
    "print(mean, std)"
   ]
  },
  {
   "cell_type": "code",
   "execution_count": 19,
   "id": "0bbe0430-ecea-4787-aac9-9fc800b05476",
   "metadata": {},
   "outputs": [],
   "source": [
    "transform_train = transforms.Compose([\n",
    "    # transforms.Resize(244),\n",
    "    transforms.RandomCrop(32, padding = 4),\n",
    "    transforms.RandomRotation(10),\n",
    "    # transforms.Scale(0.1),\n",
    "    # transforms.Translate(),\n",
    "    transforms.ToTensor(),\n",
    "    transforms.Normalize(mean=mean, std=std)\n",
    "])\n",
    "\n",
    "transform_test = transforms.Compose([\n",
    "    # transforms.Resize(244),\n",
    "    transforms.ToTensor(),\n",
    "    transforms.Normalize(mean=mean, std=std)\n",
    "])"
   ]
  },
  {
   "cell_type": "code",
   "execution_count": 20,
   "id": "68ecc3fc-5a1a-4a8f-8585-1796997867de",
   "metadata": {},
   "outputs": [],
   "source": [
    "train_data = torchvision.datasets.SVHN(root = './data', download = True, split = 'train', transform = transform_train)\n",
    "test_data = torchvision.datasets.SVHN(root = './data', download = True, split = 'test', transform = transform_test)"
   ]
  },
  {
   "cell_type": "code",
   "execution_count": 21,
   "id": "15b35add-5a0a-4ead-97c4-33f4fb313be3",
   "metadata": {},
   "outputs": [],
   "source": [
    "train_batch_loader = DataLoader(train_data, batch_size = 8, shuffle = True, pin_memory = True, num_workers = 2)\n",
    "test_batch_loader = DataLoader(test_data, batch_size = 8, shuffle = True, pin_memory = True, num_workers = 2)"
   ]
  },
  {
   "cell_type": "code",
   "execution_count": null,
   "id": "aadf7ad1-8f3d-4f5f-8005-6c6b9d2790e1",
   "metadata": {},
   "outputs": [],
   "source": []
  },
  {
   "cell_type": "code",
   "execution_count": null,
   "id": "c7f26fd2-92ae-406b-9e25-db6848792296",
   "metadata": {},
   "outputs": [],
   "source": [
    "loss_fn = nn.CrossEntropyLoss()\n",
    "optimizer = optim.SGD(model.parameters(), lr = 0.001)\n",
    "\n",
    "epochs = 10\n",
    "for epoch in range(epochs):\n",
    "    for x_train, y_train in train_batch_loader:\n",
    "        y_pred = model(x_train)\n",
    "        "
   ]
  },
  {
   "cell_type": "code",
   "execution_count": null,
   "id": "7cfaa747-df9f-4772-ac57-5f3c2bb8abf8",
   "metadata": {},
   "outputs": [],
   "source": [
    "class SVHNModel():\n",
    "    def __init__(self):\n",
    "        super().__init__()\n",
    "        "
   ]
  },
  {
   "cell_type": "code",
   "execution_count": null,
   "id": "fcd12daf-6732-479b-b502-dab79bf1c47f",
   "metadata": {},
   "outputs": [],
   "source": []
  }
 ],
 "metadata": {
  "kernelspec": {
   "display_name": "Python 3 (ipykernel)",
   "language": "python",
   "name": "python3"
  },
  "language_info": {
   "codemirror_mode": {
    "name": "ipython",
    "version": 3
   },
   "file_extension": ".py",
   "mimetype": "text/x-python",
   "name": "python",
   "nbconvert_exporter": "python",
   "pygments_lexer": "ipython3",
   "version": "3.10.12"
  }
 },
 "nbformat": 4,
 "nbformat_minor": 5
}

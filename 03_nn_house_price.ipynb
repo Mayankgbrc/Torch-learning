{
 "cells": [
  {
   "cell_type": "code",
   "execution_count": 1,
   "id": "11c66325-806b-4d13-bab3-302b4a24af90",
   "metadata": {},
   "outputs": [],
   "source": [
    "import torch\n",
    "import torch.nn as nn\n",
    "import torch.optim as optim"
   ]
  },
  {
   "cell_type": "code",
   "execution_count": 11,
   "id": "66b32853-31b6-4992-870e-9cc744749f70",
   "metadata": {},
   "outputs": [],
   "source": [
    "class HousePrice(nn.Module):\n",
    "    def __init__(self):\n",
    "        super(HousePrice, self).__init__()\n",
    "        self.layer1 = nn.Linear(3, 1)\n",
    "\n",
    "    def forward(self, x):\n",
    "        x = self.layer1(x)\n",
    "        # x = torch.relu(x)\n",
    "        # x = self.layer2(x)\n",
    "        return x\n",
    "\n"
   ]
  },
  {
   "cell_type": "code",
   "execution_count": 14,
   "id": "65338215-ca01-4f53-aa24-9317a44d0f71",
   "metadata": {},
   "outputs": [
    {
     "name": "stdout",
     "output_type": "stream",
     "text": [
      "tensor([1535.,    3.,   15.]) tensor([297.6995,   0.7071,   7.9057])\n",
      "tensor([[-0.4535,  0.0000,  0.6325],\n",
      "        [ 0.2183,  1.4142,  0.0000],\n",
      "        [ 0.5543,  0.0000, -0.6325],\n",
      "        [ 1.1421,  0.0000, -1.2649],\n",
      "        [-1.4612, -1.4142,  1.2649]])\n"
     ]
    }
   ],
   "source": [
    "# house data (size sq ft, bedrooms, age)\n",
    "X = torch.tensor([\n",
    "    [1400, 3, 20],\n",
    "    [1600, 4, 15],\n",
    "    [1700, 3, 10],\n",
    "    [1875, 3, 5],\n",
    "    [1100, 2, 25]\n",
    "], dtype=torch.float32)\n",
    "\n",
    "# Normalize the data (important for better training)\n",
    "X_mean, X_std = X.mean(dim=0), X.std(dim=0)\n",
    "print(X_mean, X_std)\n",
    "\n",
    "X_norm = (X - X_mean) / X_std  # Standardization\n",
    "print(X_norm)\n",
    "\n",
    "Y = torch.tensor([[245], [312], [279], [308], [199]], dtype=torch.float32)  # Prices in $1000s"
   ]
  },
  {
   "cell_type": "code",
   "execution_count": null,
   "id": "072257b0-a025-4ad2-ae2d-231907f2284a",
   "metadata": {},
   "outputs": [],
   "source": []
  },
  {
   "cell_type": "code",
   "execution_count": 35,
   "id": "bde3880d-ffe4-4d34-af9b-5a19a0b95437",
   "metadata": {},
   "outputs": [
    {
     "name": "stdout",
     "output_type": "stream",
     "text": [
      "epochs: 0, loss: 73729.8984375\n",
      "epochs: 5, loss: 60013.76171875\n",
      "epochs: 10, loss: 48883.95703125\n",
      "epochs: 15, loss: 39842.3984375\n",
      "epochs: 20, loss: 32490.134765625\n",
      "epochs: 25, loss: 26506.671875\n",
      "epochs: 30, loss: 21633.837890625\n",
      "epochs: 35, loss: 17663.193359375\n",
      "epochs: 40, loss: 14426.1435546875\n",
      "epochs: 45, loss: 11786.076171875\n",
      "epochs: 50, loss: 9632.16015625\n",
      "epochs: 55, loss: 7874.3701171875\n",
      "epochs: 60, loss: 6439.498046875\n",
      "epochs: 65, loss: 5267.9853515625\n",
      "epochs: 70, loss: 4311.31884765625\n",
      "epochs: 75, loss: 3529.98193359375\n",
      "epochs: 80, loss: 2891.75244140625\n",
      "epochs: 85, loss: 2370.3603515625\n",
      "epochs: 90, loss: 1944.37109375\n",
      "epochs: 95, loss: 1596.294189453125\n",
      "epochs: 100, loss: 1311.8548583984375\n",
      "epochs: 105, loss: 1079.3974609375\n",
      "epochs: 110, loss: 889.4069213867188\n",
      "epochs: 115, loss: 734.1132202148438\n",
      "epochs: 120, loss: 607.1692504882812\n",
      "epochs: 125, loss: 503.39111328125\n",
      "epochs: 130, loss: 418.54376220703125\n",
      "epochs: 135, loss: 349.16766357421875\n",
      "epochs: 140, loss: 292.4361267089844\n",
      "epochs: 145, loss: 246.03970336914062\n",
      "epochs: 150, loss: 208.09115600585938\n",
      "epochs: 155, loss: 177.0490264892578\n",
      "epochs: 160, loss: 151.65194702148438\n",
      "epochs: 165, loss: 130.87051391601562\n",
      "epochs: 170, loss: 113.86280822753906\n",
      "epochs: 175, loss: 99.94114685058594\n",
      "epochs: 180, loss: 88.54335021972656\n",
      "epochs: 185, loss: 79.20980072021484\n",
      "epochs: 190, loss: 71.5641098022461\n",
      "epochs: 195, loss: 65.2999267578125\n",
      "epochs: 200, loss: 60.16583251953125\n",
      "epochs: 205, loss: 55.956138610839844\n",
      "epochs: 210, loss: 52.503013610839844\n",
      "epochs: 215, loss: 49.669464111328125\n",
      "epochs: 220, loss: 47.34297180175781\n",
      "epochs: 225, loss: 45.43183135986328\n",
      "epochs: 230, loss: 43.861000061035156\n",
      "epochs: 235, loss: 42.56858444213867\n",
      "epochs: 240, loss: 41.50490951538086\n",
      "epochs: 245, loss: 40.62841796875\n"
     ]
    }
   ],
   "source": [
    "model = HousePrice()\n",
    "\n",
    "loss_fn = nn.MSELoss()\n",
    "optimizer = optim.SGD(model.parameters(), lr = 0.01)\n",
    "\n",
    "epochs = 250\n",
    "\n",
    "for i in range(epochs):\n",
    "    y = model(X_norm)\n",
    "    loss = loss_fn(y, Y)\n",
    "\n",
    "    optimizer.zero_grad()\n",
    "    loss.backward()\n",
    "\n",
    "    optimizer.step()\n",
    "\n",
    "    if i % 5 == 0:\n",
    "        print(f\"epochs: {i}, loss: {loss}\")"
   ]
  },
  {
   "cell_type": "code",
   "execution_count": 52,
   "id": "0784dd8d-4886-428e-be8c-dc1e4ad5abe1",
   "metadata": {},
   "outputs": [
    {
     "name": "stdout",
     "output_type": "stream",
     "text": [
      "tensor([[259.7364],\n",
      "        [323.3285]], grad_fn=<AddmmBackward0>)\n",
      "259.7364196777344\n",
      "323.3285217285156\n"
     ]
    }
   ],
   "source": [
    "# Test with a new house\n",
    "test_house = torch.tensor([[1500, 3, 18], [1800, 4, 10]], dtype=torch.float32)\n",
    "test_house = (test_house - X_mean) / X_std  # Normalize\n",
    "test_price = model(test_house)\n",
    "print(test_price)\n",
    "for each in test_price:\n",
    "    print(each.item())"
   ]
  },
  {
   "cell_type": "code",
   "execution_count": 47,
   "id": "69a03aef-3213-481b-8fab-a7fdbc3b6aaf",
   "metadata": {},
   "outputs": [
    {
     "name": "stdout",
     "output_type": "stream",
     "text": [
      "\n",
      "Predicted price for house (1500 sq ft, 3 bedrooms, 18 years old): $259736.42\n"
     ]
    }
   ],
   "source": [
    "test_house = torch.tensor([[1500, 3, 18]], dtype=torch.float32)\n",
    "test_house = (test_house - X_mean) / X_std  # Normalize\n",
    "predicted_price = model(test_house).item()\n",
    "print(f\"\\nPredicted price for house (1500 sq ft, 3 bedrooms, 18 years old): ${predicted_price*1000:.2f}\")"
   ]
  },
  {
   "cell_type": "code",
   "execution_count": null,
   "id": "b91de125-ddaa-4140-9b0c-1d52834d9202",
   "metadata": {},
   "outputs": [],
   "source": []
  }
 ],
 "metadata": {
  "kernelspec": {
   "display_name": "Python 3 (ipykernel)",
   "language": "python",
   "name": "python3"
  },
  "language_info": {
   "codemirror_mode": {
    "name": "ipython",
    "version": 3
   },
   "file_extension": ".py",
   "mimetype": "text/x-python",
   "name": "python",
   "nbconvert_exporter": "python",
   "pygments_lexer": "ipython3",
   "version": "3.10.12"
  }
 },
 "nbformat": 4,
 "nbformat_minor": 5
}
